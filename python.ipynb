{
  "nbformat": 4,
  "nbformat_minor": 0,
  "metadata": {
    "colab": {
      "provenance": [],
      "authorship_tag": "ABX9TyNB6rlZPwdUKRREbZJUUCfC",
      "include_colab_link": true
    },
    "kernelspec": {
      "name": "python3",
      "display_name": "Python 3"
    },
    "language_info": {
      "name": "python"
    }
  },
  "cells": [
    {
      "cell_type": "markdown",
      "metadata": {
        "id": "view-in-github",
        "colab_type": "text"
      },
      "source": [
        "<a href=\"https://colab.research.google.com/github/mahendra365/BA--Projects/blob/main/python.ipynb\" target=\"_parent\"><img src=\"https://colab.research.google.com/assets/colab-badge.svg\" alt=\"Open In Colab\"/></a>"
      ]
    },
    {
      "cell_type": "code",
      "execution_count": null,
      "metadata": {
        "id": "fhYonbjm9pwL"
      },
      "outputs": [],
      "source": [
        "def display_frogs(frogs):\n",
        "    print(f\"[ {0:^3} , {1:^3} , {2:^3} , {3:^3} , {4:^3} , {5:^3} , {6:^3} ]\")\n",
        "    print(f\"{frogs[0]:^3}{frogs[1]:^3}{frogs[2]:^3}{'-':^3}{frogs[4]:^3}{frogs[5]:^3}{frogs[6]:^3}\")\n",
        "    print()\n",
        "\n",
        "def move_frog(frogs, pos, direction):\n",
        "    if pos < 0 or pos > 6 or frogs[pos] == '-':\n",
        "        return False\n",
        "    if direction == 'left':\n",
        "        if pos < 2 or frogs[pos-1] != '-' or frogs[pos-2] == 'B':\n",
        "            return False\n",
        "        frogs[pos-2], frogs[pos] = frogs[pos], frogs[pos-2]\n",
        "    else:\n",
        "        if pos > 4 or frogs[pos+1] != '-' or frogs[pos+2] == 'G':\n",
        "            return False\n",
        "        frogs[pos+2], frogs[pos] = frogs[pos], frogs[pos+2]\n",
        "    return True\n",
        "\n",
        "def play_game():\n",
        "    frogs = ['G', 'G', 'G', '-', 'B', 'B', 'B']\n",
        "    display_frogs(frogs)\n",
        "    while True:\n",
        "        pos = input(\"Enter the position of the frog you want to move (0-6) or 'q' to quit: \")\n",
        "        if pos == 'q':\n",
        "            break\n",
        "        try:\n",
        "            pos = int(pos)\n",
        "        except ValueError:\n",
        "            print(\"Invalid input. Please enter a number between 0 and 6 or 'q' to quit.\")\n",
        "            continue\n",
        "        if not move_frog(frogs, pos, 'left'):\n",
        "            if not move_frog(frogs, pos, 'right'):\n",
        "                print(\"Invalid move. Please try again.\")\n",
        "                continue\n",
        "        display_frogs(frogs)\n",
        "        if frogs == ['B', 'B', 'B', '-', 'G', 'G', 'G']:\n",
        "            print(\"Congratulations! You solved the puzzle!\")\n",
        "            break\n"
      ]
    },
    {
      "cell_type": "code",
      "source": [
        "\n",
        "\n",
        "def display_board(frogs):\n",
        "    print(\"[ 0 ,  1 ,  2 ,  3 ,  4 ,  5 ,  6 ]\")\n",
        "    print(frogs)\n",
        "\n",
        "def is_valid_move(position, frogs):\n",
        "    if position < 0 or position > 6 or frogs[position] == '-':\n",
        "        return False\n",
        "    return True\n",
        "\n",
        "def make_move(position, frogs):\n",
        "    if position < 0 or position > 6:\n",
        "        print(\"Invalid move. Position must be between 0 and 6.\")\n",
        "        return frogs\n",
        "\n",
        "    if not is_valid_move(position, frogs):\n",
        "        print(\"Invalid move. Cannot move an empty leaf or leap over an empty space.\")\n",
        "        return frogs\n",
        "\n",
        "    # Moving to the right\n",
        "    if position < 6 and frogs[position + 1] == '-':\n",
        "        frogs[position + 1], frogs[position] = frogs[position], frogs[position + 1]\n",
        "\n",
        "    # Moving to the left\n",
        "    elif position > 0 and frogs[position - 1] == '-':\n",
        "        frogs[position - 1], frogs[position] = frogs[position], frogs[position - 1]\n",
        "\n",
        "    # Jumping to the right\n",
        "    elif position < 5 and frogs[position + 2] == '-' and frogs[position + 1] != '-':\n",
        "        frogs[position + 2], frogs[position] = frogs[position], frogs[position + 2]\n",
        "        frogs[position + 1] = '-'\n",
        "\n",
        "    # Jumping to the left\n",
        "    elif position > 1 and frogs[position - 2] == '-' and frogs[position - 1] != '-':\n",
        "        frogs[position - 2], frogs[position] = frogs[position], frogs[position - 2]\n",
        "        frogs[position - 1] = '-'\n",
        "\n",
        "    else:\n",
        "        print(\"Invalid move. Check the rules for valid moves.\")\n",
        "\n",
        "    return frogs\n",
        "\n",
        "def main():\n",
        "    frogs = ['G', 'G', 'G', '-', 'B', 'B', 'B']\n",
        "\n",
        "    while True:\n",
        "        display_board(frogs)\n",
        "\n",
        "        move = input(\"Enter the position of the frog to move (0-6) or 'q' to quit: \")\n",
        "\n",
        "        if move.lower() == 'q':\n",
        "            print(\"Quitting the game.\")\n",
        "            break\n",
        "\n",
        "        try:\n",
        "            move = int(move)\n",
        "        except ValueError:\n",
        "            print(\"Invalid input. Please enter a number or 'q' to quit.\")\n",
        "            continue\n",
        "\n",
        "        frogs = make_move(move, frogs)\n",
        "\n",
        "        if frogs == ['B', 'B', 'B', '-', 'G', 'G', 'G']:\n",
        "            display_board(frogs)\n",
        "            print(\"Congratulations! You solved the puzzle.\")\n",
        "            break\n",
        "\n",
        "if __name__ == \"__main__\":\n",
        "    main()"
      ],
      "metadata": {
        "colab": {
          "base_uri": "https://localhost:8080/"
        },
        "id": "yujFhWycDwmF",
        "outputId": "82ff5823-676e-49c2-d1e4-b34db8586328"
      },
      "execution_count": null,
      "outputs": [
        {
          "output_type": "stream",
          "name": "stdout",
          "text": [
            "[ 0 ,  1 ,  2 ,  3 ,  4 ,  5 ,  6 ]\n",
            "['G', 'G', 'G', '-', 'B', 'B', 'B']\n",
            "Enter the position of the frog to move (0-6) or 'q' to quit: 3\n",
            "Invalid move. Cannot move an empty leaf or leap over an empty space.\n",
            "[ 0 ,  1 ,  2 ,  3 ,  4 ,  5 ,  6 ]\n",
            "['G', 'G', 'G', '-', 'B', 'B', 'B']\n",
            "Enter the position of the frog to move (0-6) or 'q' to quit: 1\n",
            "[ 0 ,  1 ,  2 ,  3 ,  4 ,  5 ,  6 ]\n",
            "['G', '-', '-', 'G', 'B', 'B', 'B']\n",
            "Enter the position of the frog to move (0-6) or 'q' to quit: 0\n",
            "[ 0 ,  1 ,  2 ,  3 ,  4 ,  5 ,  6 ]\n",
            "['-', 'G', '-', 'G', 'B', 'B', 'B']\n"
          ]
        }
      ]
    }
  ]
}